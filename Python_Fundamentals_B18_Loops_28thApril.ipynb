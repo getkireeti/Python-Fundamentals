{
 "cells": [
  {
   "cell_type": "code",
   "execution_count": null,
   "metadata": {},
   "outputs": [],
   "source": [
    "#Python_Fundamentals_D15_Loops_28thApril\n",
    "For loops"
   ]
  },
  {
   "cell_type": "code",
   "execution_count": 1,
   "metadata": {},
   "outputs": [
    {
     "name": "stdout",
     "output_type": "stream",
     "text": [
      "keep up the good work, Devi\n"
     ]
    }
   ],
   "source": [
    "my_students= ['devi','naresh','satya','neha','vijayalaxmi','malveeca','adil','amit','mahesh']\n",
    "print(f\"keep up the good work, {my_students[0].title()}\")"
   ]
  },
  {
   "cell_type": "code",
   "execution_count": null,
   "metadata": {},
   "outputs": [],
   "source": [
    "#general syntax : \n",
    "#tempvar (anyname) in my_students:\n",
    "    #print(tempvar) #indentation\n",
    "for temporary variable in main variable:\n",
    "    print(temporary variable)"
   ]
  },
  {
   "cell_type": "code",
   "execution_count": 2,
   "metadata": {},
   "outputs": [
    {
     "name": "stdout",
     "output_type": "stream",
     "text": [
      "devi\n",
      "naresh\n",
      "satya\n",
      "neha\n",
      "vijayalaxmi\n",
      "malveeca\n",
      "adil\n",
      "amit\n",
      "mahesh\n"
     ]
    }
   ],
   "source": [
    "for student in my_students:\n",
    "        print(student)"
   ]
  },
  {
   "cell_type": "code",
   "execution_count": 3,
   "metadata": {},
   "outputs": [
    {
     "name": "stdout",
     "output_type": "stream",
     "text": [
      "devi\n",
      "naresh\n",
      "satya\n",
      "neha\n",
      "vijayalaxmi\n",
      "malveeca\n",
      "adil\n",
      "amit\n",
      "mahesh\n"
     ]
    }
   ],
   "source": [
    "for x in my_students:\n",
    "    print(x)"
   ]
  },
  {
   "cell_type": "code",
   "execution_count": 6,
   "metadata": {},
   "outputs": [
    {
     "name": "stdout",
     "output_type": "stream",
     "text": [
      "Keep up the good work, Devi\n",
      "Keep up the good work, Naresh\n",
      "Keep up the good work, Satya\n",
      "Keep up the good work, Neha\n",
      "Keep up the good work, Vijayalaxmi\n",
      "Keep up the good work, Malveeca\n",
      "Keep up the good work, Adil\n",
      "Keep up the good work, Amit\n",
      "Keep up the good work, Mahesh\n"
     ]
    }
   ],
   "source": [
    "for x in my_students:\n",
    "    print(f\"Keep up the good work, {x.title()}\")"
   ]
  },
  {
   "cell_type": "code",
   "execution_count": 7,
   "metadata": {},
   "outputs": [
    {
     "name": "stdout",
     "output_type": "stream",
     "text": [
      "Keep up the good work,Devi\n",
      "looking forward to recevie tour practise, Devi\n",
      "Keep up the good work,Naresh\n",
      "looking forward to recevie tour practise, Naresh\n",
      "Keep up the good work,Satya\n",
      "looking forward to recevie tour practise, Satya\n",
      "Keep up the good work,Neha\n",
      "looking forward to recevie tour practise, Neha\n",
      "Keep up the good work,Vijayalaxmi\n",
      "looking forward to recevie tour practise, Vijayalaxmi\n",
      "Keep up the good work,Malveeca\n",
      "looking forward to recevie tour practise, Malveeca\n",
      "Keep up the good work,Adil\n",
      "looking forward to recevie tour practise, Adil\n",
      "Keep up the good work,Amit\n",
      "looking forward to recevie tour practise, Amit\n",
      "Keep up the good work,Mahesh\n",
      "looking forward to recevie tour practise, Mahesh\n"
     ]
    }
   ],
   "source": [
    "#enhancement of code \n",
    "for x in my_students:\n",
    "    print(f\"Keep up the good work,{x.title()}\")\n",
    "    print(f\"looking forward to recevie tour practise, {x.title()}\")"
   ]
  },
  {
   "cell_type": "code",
   "execution_count": 8,
   "metadata": {},
   "outputs": [
    {
     "name": "stdout",
     "output_type": "stream",
     "text": [
      "Keep up the good work,Devi\n",
      "looking forward to recevie tour practise, Devi.\n",
      "\n",
      "Keep up the good work,Naresh\n",
      "looking forward to recevie tour practise, Naresh.\n",
      "\n",
      "Keep up the good work,Satya\n",
      "looking forward to recevie tour practise, Satya.\n",
      "\n",
      "Keep up the good work,Neha\n",
      "looking forward to recevie tour practise, Neha.\n",
      "\n",
      "Keep up the good work,Vijayalaxmi\n",
      "looking forward to recevie tour practise, Vijayalaxmi.\n",
      "\n",
      "Keep up the good work,Malveeca\n",
      "looking forward to recevie tour practise, Malveeca.\n",
      "\n",
      "Keep up the good work,Adil\n",
      "looking forward to recevie tour practise, Adil.\n",
      "\n",
      "Keep up the good work,Amit\n",
      "looking forward to recevie tour practise, Amit.\n",
      "\n",
      "Keep up the good work,Mahesh\n",
      "looking forward to recevie tour practise, Mahesh.\n",
      "\n"
     ]
    }
   ],
   "source": [
    "#enhancement of code \n",
    "for x in my_students:\n",
    "    print(f\"Keep up the good work,{x.title()}\")\n",
    "    print(f\"looking forward to recevie tour practise, {x.title()}.\\n\")"
   ]
  },
  {
   "cell_type": "code",
   "execution_count": null,
   "metadata": {},
   "outputs": [],
   "source": []
  },
  {
   "cell_type": "code",
   "execution_count": null,
   "metadata": {},
   "outputs": [],
   "source": [
    "#intoductions to IF conditions :\n",
    "Rain.....> #occanrance of event: \n",
    "if it is raining outside\n",
    "i will be at home\n",
    "if not:\n",
    "i can go out\n"
   ]
  },
  {
   "cell_type": "code",
   "execution_count": 9,
   "metadata": {},
   "outputs": [
    {
     "name": "stdout",
     "output_type": "stream",
     "text": [
      "['audi', 'maruti', 'toyota', 'benz', 'bmw']\n"
     ]
    }
   ],
   "source": [
    "cars = ['audi', 'maruti', 'toyota', 'benz', 'bmw']\n",
    "print(cars)"
   ]
  },
  {
   "cell_type": "code",
   "execution_count": null,
   "metadata": {},
   "outputs": [],
   "source": [
    "#Requirement : ....> if we are receiving bmw ...> print it in a capital case\n",
    "....>other brands i ahve to print in a title case\n"
   ]
  },
  {
   "cell_type": "code",
   "execution_count": 10,
   "metadata": {},
   "outputs": [
    {
     "name": "stdout",
     "output_type": "stream",
     "text": [
      "Audi\n",
      "Maruti\n",
      "Toyota\n",
      "Benz\n",
      "BMW\n"
     ]
    }
   ],
   "source": [
    "for car in cars:\n",
    "    if car == 'bmw': #equality testing...>\n",
    "        print(car.upper())\n",
    "    else:\n",
    "        print(car.title())"
   ]
  },
  {
   "cell_type": "code",
   "execution_count": null,
   "metadata": {},
   "outputs": [],
   "source": []
  },
  {
   "cell_type": "code",
   "execution_count": null,
   "metadata": {},
   "outputs": [],
   "source": []
  },
  {
   "cell_type": "code",
   "execution_count": null,
   "metadata": {},
   "outputs": [],
   "source": []
  }
 ],
 "metadata": {
  "kernelspec": {
   "display_name": "Python 3",
   "language": "python",
   "name": "python3"
  },
  "language_info": {
   "codemirror_mode": {
    "name": "ipython",
    "version": 3
   },
   "file_extension": ".py",
   "mimetype": "text/x-python",
   "name": "python",
   "nbconvert_exporter": "python",
   "pygments_lexer": "ipython3",
   "version": "3.7.6"
  }
 },
 "nbformat": 4,
 "nbformat_minor": 4
}
