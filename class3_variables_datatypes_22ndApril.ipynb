{
 "cells": [
  {
   "cell_type": "code",
   "execution_count": 14,
   "metadata": {},
   "outputs": [
    {
     "name": "stdout",
     "output_type": "stream",
     "text": [
      "Class3_Batch18_variables\n"
     ]
    }
   ],
   "source": [
    "#Class 3\n",
    "print (\"Class3_Batch18_variables\")"
   ]
  },
  {
   "cell_type": "code",
   "execution_count": 5,
   "metadata": {},
   "outputs": [
    {
     "name": "stdout",
     "output_type": "stream",
     "text": [
      "44\n"
     ]
    }
   ],
   "source": [
    "x=23\n",
    "y=21\n",
    "print(x+y)"
   ]
  },
  {
   "cell_type": "code",
   "execution_count": 7,
   "metadata": {},
   "outputs": [
    {
     "name": "stdout",
     "output_type": "stream",
     "text": [
      "srinivasa\n",
      "sri\n"
     ]
    }
   ],
   "source": [
    "# No name spaces while declaring variables\n",
    "\n",
    "first_name = 'srinivasa'\n",
    "print(first_name)\n",
    "\n",
    "firstname = 'sri'\n",
    "print(firstname)"
   ]
  },
  {
   "cell_type": "code",
   "execution_count": 12,
   "metadata": {},
   "outputs": [
    {
     "name": "stdout",
     "output_type": "stream",
     "text": [
      "kireeti\n"
     ]
    }
   ],
   "source": [
    "# Variable name should not start with number\n",
    " \n",
    "middlename1= 'kireeti'\n",
    "    \n",
    "print(middlename1)\n",
    "  \n",
    "\n",
    "    "
   ]
  },
  {
   "cell_type": "code",
   "execution_count": 13,
   "metadata": {},
   "outputs": [
    {
     "name": "stdout",
     "output_type": "stream",
     "text": [
      "boinapally\n"
     ]
    }
   ],
   "source": [
    "# No special Characters\n",
    "\n",
    "surname = 'boinapally'\n",
    "print(surname)"
   ]
  },
  {
   "cell_type": "code",
   "execution_count": 16,
   "metadata": {},
   "outputs": [
    {
     "name": "stdout",
     "output_type": "stream",
     "text": [
      "sri\n",
      "srini\n",
      "Srinivsa\n"
     ]
    }
   ],
   "source": [
    "#Defining String in 2 possible ways\n",
    "# Single Quotes\n",
    "\n",
    "name1='sri'\n",
    "print(name1)\n",
    "\n",
    "#Double Quotes\n",
    "\n",
    "name2 =\"srini\"\n",
    "print(name2)\n",
    "\n",
    "# Triple Quotes\n",
    "\n",
    "name3 = \"\"\"Srinivsa\"\"\"\n",
    "print(name3)"
   ]
  },
  {
   "cell_type": "code",
   "execution_count": 17,
   "metadata": {},
   "outputs": [
    {
     "data": {
      "text/plain": [
       "str"
      ]
     },
     "execution_count": 17,
     "metadata": {},
     "output_type": "execute_result"
    }
   ],
   "source": [
    "# Introduction to String methods\n",
    "# veriffication and Validation of data type\n",
    "type(name1)\n",
    "type(name2)\n",
    "type(name3)"
   ]
  },
  {
   "cell_type": "code",
   "execution_count": 21,
   "metadata": {},
   "outputs": [
    {
     "name": "stdout",
     "output_type": "stream",
     "text": [
      "srinivasa kireeti boinapally\n",
      "Srinivasa Kireeti Boinapally\n",
      "SRINIVASA KIREETI BOINAPALLY\n",
      "srinivasa kireeti boinapally\n"
     ]
    }
   ],
   "source": [
    "#Inbuilt methods\n",
    "\n",
    "# regualr print statement 1\n",
    "full_name = 'srinivasa kireeti boinapally'\n",
    "print(full_name)\n",
    "\n",
    "# title() method\n",
    "full_name ='srinivasa kireeti boinapally'\n",
    "print(full_name.title())\n",
    "\n",
    "# upper() method\n",
    "full_name = 'srinivasa kireeti boinapally'\n",
    "print(full_name.upper())\n",
    "\n",
    "# lower() method\n",
    "full_name = 'Srinivasa Kireeti BOINAPALLY'\n",
    "print(full_name.lower())"
   ]
  },
  {
   "cell_type": "code",
   "execution_count": null,
   "metadata": {},
   "outputs": [],
   "source": []
  }
 ],
 "metadata": {
  "kernelspec": {
   "display_name": "Python 3",
   "language": "python",
   "name": "python3"
  },
  "language_info": {
   "codemirror_mode": {
    "name": "ipython",
    "version": 3
   },
   "file_extension": ".py",
   "mimetype": "text/x-python",
   "name": "python",
   "nbconvert_exporter": "python",
   "pygments_lexer": "ipython3",
   "version": "3.7.6"
  }
 },
 "nbformat": 4,
 "nbformat_minor": 4
}
