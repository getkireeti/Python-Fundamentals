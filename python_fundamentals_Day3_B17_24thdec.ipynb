{
 "cells": [
  {
   "cell_type": "code",
   "execution_count": null,
   "metadata": {},
   "outputs": [],
   "source": [
    "#intorduction to list data types"
   ]
  },
  {
   "cell_type": "code",
   "execution_count": null,
   "metadata": {},
   "outputs": [],
   "source": [
    "A list is a collection of items in a particulr order\n",
    "List is a mutable data type\n",
    "how do we define list ....> by using []...> by square brackets"
   ]
  },
  {
   "cell_type": "code",
   "execution_count": 3,
   "metadata": {},
   "outputs": [
    {
     "name": "stdout",
     "output_type": "stream",
     "text": [
      "['ravali', 'sai', 'sri', 'raju', 'swe', 'nana', 'ram', 'gop']\n"
     ]
    }
   ],
   "source": [
    "#example \n",
    "students= ['ravali', 'sai', 'sri', 'raju','swe','nana','ram','gop']\n",
    "print(students)"
   ]
  },
  {
   "cell_type": "code",
   "execution_count": 2,
   "metadata": {},
   "outputs": [
    {
     "data": {
      "text/plain": [
       "list"
      ]
     },
     "execution_count": 2,
     "metadata": {},
     "output_type": "execute_result"
    }
   ],
   "source": [
    "type(students) #to know data type"
   ]
  },
  {
   "cell_type": "code",
   "execution_count": null,
   "metadata": {},
   "outputs": [],
   "source": [
    "# how the order of items will be maintaining...>?  ....by indexing\n",
    "# understanding the indexing\n",
    "#indexing will be startign from 0,1,2,3,4,5,6\n",
    "#how to access the elements from the list?\n",
    "#need to access the raju name on teh output"
   ]
  },
  {
   "cell_type": "code",
   "execution_count": 4,
   "metadata": {},
   "outputs": [
    {
     "name": "stdout",
     "output_type": "stream",
     "text": [
      "raju\n"
     ]
    }
   ],
   "source": [
    "print(students[3])"
   ]
  },
  {
   "cell_type": "code",
   "execution_count": 5,
   "metadata": {},
   "outputs": [
    {
     "name": "stdout",
     "output_type": "stream",
     "text": [
      "nana\n"
     ]
    }
   ],
   "source": [
    "print(students[5])"
   ]
  },
  {
   "cell_type": "code",
   "execution_count": null,
   "metadata": {},
   "outputs": [],
   "source": [
    "#reassigning , adding,deleting teh elements from the list....> waht are the possible ways we can do?"
   ]
  },
  {
   "cell_type": "code",
   "execution_count": null,
   "metadata": {},
   "outputs": [],
   "source": [
    "#reassigning the elements from current list\n",
    "raju ....>tanusri.....>requirement"
   ]
  },
  {
   "cell_type": "code",
   "execution_count": 6,
   "metadata": {},
   "outputs": [
    {
     "name": "stdout",
     "output_type": "stream",
     "text": [
      "['ravali', 'sai', 'sri', 'tanusri', 'swe', 'nana', 'ram', 'gop']\n"
     ]
    }
   ],
   "source": [
    "students[3]= 'tanusri'\n",
    "print(students)"
   ]
  },
  {
   "cell_type": "code",
   "execution_count": null,
   "metadata": {},
   "outputs": [],
   "source": [
    "#adding the element to the list \n",
    "# add Aleem name to the list\n",
    "#append() always add the element at teh end of the list"
   ]
  },
  {
   "cell_type": "code",
   "execution_count": 7,
   "metadata": {},
   "outputs": [
    {
     "name": "stdout",
     "output_type": "stream",
     "text": [
      "['ravali', 'sai', 'sri', 'tanusri', 'swe', 'nana', 'ram', 'gop', 'aleem']\n"
     ]
    }
   ],
   "source": [
    "students.append('aleem')  #append() method\n",
    "print(students)"
   ]
  },
  {
   "cell_type": "code",
   "execution_count": null,
   "metadata": {},
   "outputs": [],
   "source": [
    "#is there any possibility that we can add any choice of ours\n",
    "#adding the element at teh our own choice of place/index\n",
    "#add sahul to the first index position\n",
    "#insert() method --we can tell exact position where exactly we want"
   ]
  },
  {
   "cell_type": "code",
   "execution_count": 8,
   "metadata": {},
   "outputs": [
    {
     "name": "stdout",
     "output_type": "stream",
     "text": [
      "['ravali', 'sahul', 'sai', 'sri', 'tanusri', 'swe', 'nana', 'ram', 'gop', 'aleem']\n"
     ]
    }
   ],
   "source": [
    "students.insert(1,'sahul')\n",
    "print(students)"
   ]
  },
  {
   "cell_type": "code",
   "execution_count": null,
   "metadata": {},
   "outputs": [],
   "source": [
    "#deleting the elements from the list \n",
    "# to delete sai name\n",
    "#index of sai is 2\n",
    "#del method "
   ]
  },
  {
   "cell_type": "code",
   "execution_count": 10,
   "metadata": {},
   "outputs": [
    {
     "name": "stdout",
     "output_type": "stream",
     "text": [
      "['ravali', 'sahul', 'tanusri', 'swe', 'nana', 'ram', 'gop', 'aleem']\n"
     ]
    }
   ],
   "source": [
    "del students[2]\n",
    "print(students)"
   ]
  },
  {
   "cell_type": "code",
   "execution_count": null,
   "metadata": {},
   "outputs": [],
   "source": [
    "#introduction to pop method\n",
    "#pop method deleting the elements at the end of the list\n",
    "#pop will be deleting the items permenantly\n",
    "#it will be deleting the carbon copy of elemtns deleted under the variable"
   ]
  },
  {
   "cell_type": "code",
   "execution_count": 11,
   "metadata": {},
   "outputs": [
    {
     "name": "stdout",
     "output_type": "stream",
     "text": [
      "['ravali', 'sahul', 'tanusri', 'swe', 'nana', 'ram', 'gop']\n"
     ]
    }
   ],
   "source": [
    "x = students.pop()\n",
    "print(students)"
   ]
  },
  {
   "cell_type": "code",
   "execution_count": 12,
   "metadata": {},
   "outputs": [
    {
     "name": "stdout",
     "output_type": "stream",
     "text": [
      "aleem\n"
     ]
    }
   ],
   "source": [
    "print(x)"
   ]
  },
  {
   "cell_type": "code",
   "execution_count": null,
   "metadata": {},
   "outputs": [],
   "source": [
    "#deleting elements according to our own choice but not permenantly\n",
    "#delete 5 index position\n",
    "# tod leeted ram form index 5"
   ]
  },
  {
   "cell_type": "code",
   "execution_count": 13,
   "metadata": {},
   "outputs": [
    {
     "name": "stdout",
     "output_type": "stream",
     "text": [
      "['ravali', 'sahul', 'tanusri', 'swe', 'nana', 'gop']\n"
     ]
    }
   ],
   "source": [
    "y = students.pop(5)\n",
    "print(students)"
   ]
  },
  {
   "cell_type": "code",
   "execution_count": 14,
   "metadata": {},
   "outputs": [
    {
     "name": "stdout",
     "output_type": "stream",
     "text": [
      "ram\n"
     ]
    }
   ],
   "source": [
    "print(y) #to check what item deleted"
   ]
  },
  {
   "cell_type": "code",
   "execution_count": null,
   "metadata": {},
   "outputs": [],
   "source": []
  }
 ],
 "metadata": {
  "kernelspec": {
   "display_name": "Python 3",
   "language": "python",
   "name": "python3"
  },
  "language_info": {
   "codemirror_mode": {
    "name": "ipython",
    "version": 3
   },
   "file_extension": ".py",
   "mimetype": "text/x-python",
   "name": "python",
   "nbconvert_exporter": "python",
   "pygments_lexer": "ipython3",
   "version": "3.7.6"
  }
 },
 "nbformat": 4,
 "nbformat_minor": 4
}
