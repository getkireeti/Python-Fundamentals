{
 "cells": [
  {
   "cell_type": "code",
   "execution_count": null,
   "metadata": {},
   "outputs": [],
   "source": [
    "#looping through dictionaries:"
   ]
  },
  {
   "cell_type": "code",
   "execution_count": 1,
   "metadata": {},
   "outputs": [
    {
     "name": "stdout",
     "output_type": "stream",
     "text": [
      "{'f_name': 'code', 'l_name': 'traning', 'username': 'codetraning01', 'pwd': '12345', 'dob': '01-01-1990'}\n"
     ]
    }
   ],
   "source": [
    "user1 = {'f_name':'code','l_name':'traning','username':'codetraning01','pwd':'12345','dob':'01-01-1990'}\n",
    "print(user1)"
   ]
  },
  {
   "cell_type": "code",
   "execution_count": null,
   "metadata": {},
   "outputs": [],
   "source": [
    "#how do you loop through a dictionary\n",
    "#syntax\n",
    "for tempvar in mainvar\n",
    "    print(tempvar)\n",
    "    key-value ..dict data type we will be able to define two temporary variables"
   ]
  },
  {
   "cell_type": "code",
   "execution_count": 2,
   "metadata": {},
   "outputs": [
    {
     "name": "stdout",
     "output_type": "stream",
     "text": [
      "key: f_name\n",
      "value : code\n",
      "key: l_name\n",
      "value : traning\n",
      "key: username\n",
      "value : codetraning01\n",
      "key: pwd\n",
      "value : 12345\n",
      "key: dob\n",
      "value : 01-01-1990\n"
     ]
    }
   ],
   "source": [
    "for key, value in user1.items():\n",
    "    print(f\"key: {key}\")\n",
    "    print(f\"value : {value}\")\n",
    "    "
   ]
  },
  {
   "cell_type": "code",
   "execution_count": 5,
   "metadata": {},
   "outputs": [
    {
     "name": "stdout",
     "output_type": "stream",
     "text": [
      "key:f_name\n",
      "key:code\n",
      "key:l_name\n",
      "key:traning\n",
      "key:username\n",
      "key:codetraning01\n",
      "key:pwd\n",
      "key:12345\n",
      "key:dob\n",
      "key:01-01-1990\n"
     ]
    }
   ],
   "source": [
    "for x,y in user1.items():\n",
    "    print(f\"key:{x}\")\n",
    "    print(f\"key:{y}\")"
   ]
  },
  {
   "cell_type": "code",
   "execution_count": 6,
   "metadata": {},
   "outputs": [
    {
     "name": "stdout",
     "output_type": "stream",
     "text": [
      "\n",
      "key:f_name\n",
      "key:code\n",
      "\n",
      "key:l_name\n",
      "key:traning\n",
      "\n",
      "key:username\n",
      "key:codetraning01\n",
      "\n",
      "key:pwd\n",
      "key:12345\n",
      "\n",
      "key:dob\n",
      "key:01-01-1990\n"
     ]
    }
   ],
   "source": [
    "for x,y in user1.items():\n",
    "    print(f\"\\nkey:{x}\")\n",
    "    print(f\"key:{y}\")"
   ]
  },
  {
   "cell_type": "code",
   "execution_count": 7,
   "metadata": {},
   "outputs": [
    {
     "name": "stdout",
     "output_type": "stream",
     "text": [
      "\n",
      "key:f_name\n",
      "\n",
      "key:code\n",
      "\n",
      "key:l_name\n",
      "\n",
      "key:traning\n",
      "\n",
      "key:username\n",
      "\n",
      "key:codetraning01\n",
      "\n",
      "key:pwd\n",
      "\n",
      "key:12345\n",
      "\n",
      "key:dob\n",
      "\n",
      "key:01-01-1990\n"
     ]
    }
   ],
   "source": [
    "for x,y in user1.items():\n",
    "    print(f\"\\nkey:{x}\")\n",
    "    print(f\"\\nkey:{y}\")"
   ]
  },
  {
   "cell_type": "code",
   "execution_count": 8,
   "metadata": {},
   "outputs": [
    {
     "name": "stdout",
     "output_type": "stream",
     "text": [
      "\n",
      "key:f_name\n",
      "key:code\n",
      "\n",
      "key:l_name\n",
      "key:traning\n",
      "\n",
      "key:username\n",
      "key:codetraning01\n",
      "\n",
      "key:pwd\n",
      "key:12345\n",
      "\n",
      "key:dob\n",
      "key:01-01-1990\n"
     ]
    }
   ],
   "source": [
    "for x,y in user1.items():\n",
    "    print(f\"\\nkey:{x}\")\n",
    "    print(f\"key:{y}\")"
   ]
  },
  {
   "cell_type": "code",
   "execution_count": null,
   "metadata": {},
   "outputs": [],
   "source": [
    "# only keys in output \n"
   ]
  },
  {
   "cell_type": "code",
   "execution_count": 9,
   "metadata": {},
   "outputs": [
    {
     "name": "stdout",
     "output_type": "stream",
     "text": [
      "f_name\n",
      "l_name\n",
      "username\n",
      "pwd\n",
      "dob\n"
     ]
    }
   ],
   "source": [
    "for a in user1.keys():\n",
    "    print(a)"
   ]
  },
  {
   "cell_type": "code",
   "execution_count": null,
   "metadata": {},
   "outputs": [],
   "source": [
    "# to get output of only values"
   ]
  },
  {
   "cell_type": "code",
   "execution_count": 10,
   "metadata": {},
   "outputs": [
    {
     "name": "stdout",
     "output_type": "stream",
     "text": [
      "code\n",
      "traning\n",
      "codetraning01\n",
      "12345\n",
      "01-01-1990\n"
     ]
    }
   ],
   "source": [
    "for b in user1.values():\n",
    "    print(b)"
   ]
  },
  {
   "cell_type": "code",
   "execution_count": null,
   "metadata": {},
   "outputs": [],
   "source": [
    "# req: we are conducting a survey for group of students \n",
    "# students need to choose favourite language"
   ]
  },
  {
   "cell_type": "code",
   "execution_count": 19,
   "metadata": {},
   "outputs": [
    {
     "name": "stdout",
     "output_type": "stream",
     "text": [
      "{'ashok': 'c', 'ravali': 'python', 'satya': 'pascal', 'suresh': 'python', 'devi': 'cobol'}\n"
     ]
    }
   ],
   "source": [
    "fav_languages = {'ashok':'c', 'ravali': 'python', 'satya':'pascal','suresh':'python','devi':'cobol'}\n",
    "print(fav_language)"
   ]
  },
  {
   "cell_type": "code",
   "execution_count": 13,
   "metadata": {},
   "outputs": [
    {
     "data": {
      "text/plain": [
       "dict"
      ]
     },
     "execution_count": 13,
     "metadata": {},
     "output_type": "execute_result"
    }
   ],
   "source": [
    "type(fav_languages)"
   ]
  },
  {
   "cell_type": "code",
   "execution_count": 22,
   "metadata": {},
   "outputs": [
    {
     "name": "stdout",
     "output_type": "stream",
     "text": [
      "Ashok's favourite langauge is C.\n",
      "Ravali's favourite langauge is Python.\n",
      "Satya's favourite langauge is Pascal.\n",
      "Suresh's favourite langauge is Python.\n",
      "Devi's favourite langauge is Cobol.\n"
     ]
    }
   ],
   "source": [
    "for name, language in fav_language.items():\n",
    "    print(f\"{name.title()}'s favourite langauge is {language.title()}.\")"
   ]
  },
  {
   "cell_type": "code",
   "execution_count": null,
   "metadata": {},
   "outputs": [],
   "source": [
    "#D1_python_fundamentals_B18"
   ]
  },
  {
   "cell_type": "code",
   "execution_count": null,
   "metadata": {},
   "outputs": [],
   "source": [
    "# while loops"
   ]
  },
  {
   "cell_type": "code",
   "execution_count": null,
   "metadata": {},
   "outputs": [],
   "source": []
  },
  {
   "cell_type": "code",
   "execution_count": null,
   "metadata": {},
   "outputs": [],
   "source": []
  },
  {
   "cell_type": "code",
   "execution_count": null,
   "metadata": {},
   "outputs": [],
   "source": []
  },
  {
   "cell_type": "code",
   "execution_count": null,
   "metadata": {},
   "outputs": [],
   "source": []
  },
  {
   "cell_type": "code",
   "execution_count": null,
   "metadata": {},
   "outputs": [],
   "source": []
  },
  {
   "cell_type": "code",
   "execution_count": null,
   "metadata": {},
   "outputs": [],
   "source": []
  },
  {
   "cell_type": "code",
   "execution_count": null,
   "metadata": {},
   "outputs": [],
   "source": []
  }
 ],
 "metadata": {
  "kernelspec": {
   "display_name": "Python 3",
   "language": "python",
   "name": "python3"
  },
  "language_info": {
   "codemirror_mode": {
    "name": "ipython",
    "version": 3
   },
   "file_extension": ".py",
   "mimetype": "text/x-python",
   "name": "python",
   "nbconvert_exporter": "python",
   "pygments_lexer": "ipython3",
   "version": "3.7.6"
  }
 },
 "nbformat": 4,
 "nbformat_minor": 4
}
